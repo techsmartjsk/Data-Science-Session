{
  "cells": [
    {
      "cell_type": "markdown",
      "metadata": {},
      "source": [
        "# \ud83d\udee0\ufe0f Setup Instructions\n",
        "To run this notebook locally, you'll need Python and Jupyter Notebook installed.\n\n",
        "**Step 1: Install Python**  \n",
        "Download and install Python from the official site: https://www.python.org/downloads/\n\n",
        "**Step 2: Install Jupyter Notebook**  \n",
        "After Python is installed, run this in terminal:\n",
        "```bash\n",
        "pip install notebook\n",
        "jupyter notebook\n",
        "```\n",
        "Or use [Google Colab](https://colab.research.google.com/) to run notebooks online without installing anything!"
      ]
    },
    {
      "cell_type": "markdown",
      "metadata": {},
      "source": [
        "## \ud83d\udce6 Python Data Structures\n",
        "**Common built-in data structures:**\n",
        "- `list`: Ordered, mutable collection: `[1, 2, 3]`\n",
        "- `tuple`: Ordered, immutable collection: `(1, 2, 3)`\n",
        "- `set`: Unordered, unique elements: `{1, 2, 3}`\n",
        "- `dict`: Key-value pairs: `{'name': 'Alice', 'age': 25}`"
      ]
    },
    {
      "cell_type": "code",
      "execution_count": null,
      "metadata": {},
      "outputs": [],
      "source": [
        "# Examples of basic data structures\n",
        "my_list = [10, 20, 30]\n",
        "my_tuple = (10, 20, 30)\n",
        "my_set = {10, 20, 30}\n",
        "my_dict = {'name': 'Alice', 'age': 25}\n\n",
        "print(\"List:\", my_list)\n",
        "print(\"Tuple:\", my_tuple)\n",
        "print(\"Set:\", my_set)\n",
        "print(\"Dictionary:\", my_dict)"
      ]
    },
    {
      "cell_type": "markdown",
      "metadata": {},
      "source": [
        "# Day 1: Python for Data Science \u2013 The Groundwork\n",
        "Welcome to Day 1 of the Data Science with Python workshop!\n\n",
        "**Objectives:**\n",
        "- Understand Python basics\n",
        "- Learn about NumPy and Pandas\n",
        "- Load and explore a dataset\n",
        "- Perform basic data analysis\n"
      ]
    },
    {
      "cell_type": "code",
      "execution_count": null,
      "metadata": {},
      "outputs": [],
      "source": [
        "# Basic Python: Variables, Lists, Loops, and Functions\n",
        "my_list = [1, 2, 3, 4, 5]\n",
        "print(\"List elements:\", my_list)\n\n",
        "def square(x):\n",
        "    return x * x\n\n",
        "squared_list = [square(i) for i in my_list]\n",
        "print(\"Squared List:\", squared_list)"
      ]
    },
    {
      "cell_type": "markdown",
      "metadata": {},
      "source": [
        "## NumPy Basics\n",
        "NumPy is used for numerical operations in Python.\n\n",
        "**Why NumPy?**\n",
        "- Faster and more efficient than Python lists for numerical computations\n",
        "- Supports powerful operations like broadcasting and matrix manipulation"
      ]
    },
    {
      "cell_type": "code",
      "execution_count": null,
      "metadata": {},
      "outputs": [],
      "source": [
        "import numpy as np\n\n",
        "# NumPy arrays are more efficient than Python lists for numerical operations\n",
        "arr = np.array([1, 2, 3, 4, 5])\n",
        "print(\"NumPy Array:\", arr)\n",
        "print(\"Mean:\", np.mean(arr))\n",
        "print(\"Standard Deviation:\", np.std(arr))\n",
        "\n# Element-wise operations\n",
        "arr2 = arr * 2\n",
        "print(\"Doubled Array:\", arr2)\n",
        "\n# Matrix operations\n",
        "matrix = np.array([[1, 2], [3, 4]])\n",
        "print(\"Matrix:\", matrix)\n",
        "print(\"Transpose:\", matrix.T)"
      ]
    },
    {
      "cell_type": "markdown",
      "metadata": {},
      "source": [
        "## Pandas Basics\n",
        "Pandas helps us work with tabular data like CSV files.\n\n",
        "**Why Pandas?**\n",
        "- Handles structured data efficiently (like spreadsheets)\n",
        "- Makes data cleaning, transformation, and analysis easy\n",
        "- Integrates well with visualization and ML libraries"
      ]
    },
    {
      "cell_type": "code",
      "execution_count": null,
      "metadata": {},
      "outputs": [],
      "source": [
        "import pandas as pd\n\n",
        "# Load the Titanic dataset\n",
        "url = \"https://raw.githubusercontent.com/datasciencedojo/datasets/master/titanic.csv\"\n",
        "df = pd.read_csv(url)\n",
        "df.head()"
      ]
    },
    {
      "cell_type": "markdown",
      "metadata": {},
      "source": [
        "## Exploring the Data\n",
        "Let's look at the basic structure and summary statistics."
      ]
    },
    {
      "cell_type": "code",
      "execution_count": null,
      "metadata": {},
      "outputs": [],
      "source": [
        "df.info()\n",
        "df.describe()\n",
        "df.isnull().sum()\n",
        "df.groupby('Pclass')['Survived'].mean()\n",
        "df.sort_values(by='Age').head()"
      ]
    },
    {
      "cell_type": "markdown",
      "metadata": {},
      "source": [
        "## Basic Analysis with Pandas\n",
        "How many people survived? What is the average age?"
      ]
    },
    {
      "cell_type": "code",
      "execution_count": null,
      "metadata": {},
      "outputs": [],
      "source": [
        "df['Survived'].value_counts()\n",
        "df['Age'].mean()\n",
        "df.groupby('Sex')['Survived'].mean()"
      ]
    },
    {
      "cell_type": "markdown",
      "metadata": {},
      "source": [
        "## \u270f\ufe0f Exercises\n",
        "Try solving these on your own:\n",
        "1. Count the number of male and female passengers.\n",
        "2. Find the average fare paid by each passenger class.\n",
        "3. Plot the age distribution of passengers using a histogram.\n",
        "4. Calculate the survival rate for passengers under 18 years old.\n",
        "5. Find the top 5 oldest passengers and their survival status."
      ]
    }
  ],
  "metadata": {
    "kernelspec": {
      "display_name": "Python 3",
      "language": "python",
      "name": "python3"
    },
    "language_info": {
      "name": "python",
      "version": "3.10"
    }
  },
  "nbformat": 4,
  "nbformat_minor": 2
}